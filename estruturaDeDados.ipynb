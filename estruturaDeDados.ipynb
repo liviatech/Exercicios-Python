{
  "nbformat": 4,
  "nbformat_minor": 0,
  "metadata": {
    "colab": {
      "provenance": [],
      "authorship_tag": "ABX9TyP2UbIY2oE+xlOfzJr/z6/1",
      "include_colab_link": true
    },
    "kernelspec": {
      "name": "python3",
      "display_name": "Python 3"
    },
    "language_info": {
      "name": "python"
    }
  },
  "cells": [
    {
      "cell_type": "markdown",
      "metadata": {
        "id": "view-in-github",
        "colab_type": "text"
      },
      "source": [
        "<a href=\"https://colab.research.google.com/github/liviatech/Exercicios-Python/blob/main/estruturaDeDados.ipynb\" target=\"_parent\"><img src=\"https://colab.research.google.com/assets/colab-badge.svg\" alt=\"Open In Colab\"/></a>"
      ]
    },
    {
      "cell_type": "code",
      "execution_count": 4,
      "metadata": {
        "id": "YNSwS8xaLmNm",
        "colab": {
          "base_uri": "https://localhost:8080/"
        },
        "outputId": "6ceaf377-791e-4f31-f696-497c0ec0263a"
      },
      "outputs": [
        {
          "output_type": "stream",
          "name": "stdout",
          "text": [
            "Maior idade: 40\n"
          ]
        }
      ],
      "source": [
        "# cria as variáveis com as idades\n",
        "p1 = 25\n",
        "p2 = 40\n",
        "p3 = 15\n",
        "# verifica qual a maior idade\n",
        "if p1 >= p2 and p1 >= p3:\n",
        " print('Maior idade:', p1)\n",
        "elif p2 >= p1 and p2 >= p3:\n",
        " print('Maior idade:', p2)\n",
        " if p3 >= p1 and p3 >= p2:\n",
        "  print('Maior idade:', p3)\n"
      ]
    },
    {
      "cell_type": "code",
      "source": [
        "#Listas podem ser criadas por meio da declaração de valores\n",
        "#separados por vírgulas e delimitados por colchetes.\n",
        "[2,3,4,5,6,7,8] #homogênea ou seja um só tipo\n",
        "\n",
        "[2, 'a', 5.44, True]# Lista com valores heterogêneos\n",
        "\n",
        "['um', 'dois', None, 4] # Lista com elementos nulo\n",
        "\n",
        "# Listas com outras listas dentro (listas aninhadas)\n",
        "l = [0, 1]\n",
        "[l, 'dois', 'três', [4, 5], 'seis']\n",
        "\n",
        "# Lista vazia\n",
        "l = []\n",
        "print(l)\n"
      ],
      "metadata": {
        "id": "lyPhtTIeUoxb"
      },
      "execution_count": null,
      "outputs": []
    },
    {
      "cell_type": "code",
      "source": [
        "lista = [2, 'a', 5.44, True, None, 'casa']\n",
        "# acesso por índices\n",
        "print(lista[0])\n",
        "print(lista[3])\n",
        "print(lista[-1])\n",
        "# acesso por slices\n",
        "print(lista[1:4])\n",
        "print(lista[-2:])\n",
        "print(lista[:])"
      ],
      "metadata": {
        "colab": {
          "base_uri": "https://localhost:8080/"
        },
        "id": "YX_kac5iXl_Z",
        "outputId": "f95ce1d5-115d-4f78-d3d1-0f06c2109c22"
      },
      "execution_count": 5,
      "outputs": [
        {
          "output_type": "stream",
          "name": "stdout",
          "text": [
            "2\n",
            "True\n",
            "casa\n",
            "['a', 5.44, True]\n",
            "[None, 'casa']\n",
            "[2, 'a', 5.44, True, None, 'casa']\n"
          ]
        }
      ]
    },
    {
      "cell_type": "code",
      "source": [
        " #cria uma lista para armazenar as 15 idades\n",
        "idades = [27, 49, 12, 67, 21, 32, 18, 45, 84, 53, 22, 56, 80, 35, 18]\n",
        "# inicialmente assume que a primeira idade é a maior\n",
        "maior_idade = idades[0]\n",
        "# percorre a lista verificando a maior idade\n",
        "for idade in idades:\n",
        "    if idade > maior_idade:\n",
        "       maior_idade = idade\n",
        "# exibe a maior idade encontrada\n",
        "print('Maior idade:', maior_idade)\n"
      ],
      "metadata": {
        "colab": {
          "base_uri": "https://localhost:8080/"
        },
        "id": "MXD6Gzo0YLgI",
        "outputId": "a40c2038-619d-4161-ee1e-bbe4553f77d7"
      },
      "execution_count": 12,
      "outputs": [
        {
          "output_type": "stream",
          "name": "stdout",
          "text": [
            "Maior idade: 84\n"
          ]
        }
      ]
    },
    {
      "cell_type": "code",
      "source": [
        " #Criar uma lista inicial, com elementos heterogêneos\n",
        "lista = [2, 'a', 'b', 'c', 5.44, True]\n",
        "print(lista)"
      ],
      "metadata": {
        "colab": {
          "base_uri": "https://localhost:8080/"
        },
        "id": "NbG0V8QWZ4Wr",
        "outputId": "9b6e9505-1936-47c0-84b2-c684e3e00a38"
      },
      "execution_count": 13,
      "outputs": [
        {
          "output_type": "stream",
          "name": "stdout",
          "text": [
            "[2, 'a', 'b', 'c', 5.44, True]\n"
          ]
        }
      ]
    },
    {
      "cell_type": "code",
      "source": [
        " #Adiciona um novo elemento na lista: Método append\n",
        "lista.append(999)\n",
        "print(lista)\n"
      ],
      "metadata": {
        "colab": {
          "base_uri": "https://localhost:8080/"
        },
        "id": "RtAnPFhGZ-HM",
        "outputId": "59de6ff2-bf2c-4908-e420-a743c99091dc"
      },
      "execution_count": 14,
      "outputs": [
        {
          "output_type": "stream",
          "name": "stdout",
          "text": [
            "[2, 'a', 'b', 'c', 5.44, True, 999]\n"
          ]
        }
      ]
    },
    {
      "cell_type": "code",
      "source": [
        " #Altera o valor do quarto e o do último elemento\n",
        "lista[3] = 'a'\n",
        "lista[-1] = lista[-1] + 1\n",
        "print(lista)"
      ],
      "metadata": {
        "colab": {
          "base_uri": "https://localhost:8080/"
        },
        "id": "SoUuhR4baChs",
        "outputId": "3278cd32-995f-4925-8def-f01de14f878d"
      },
      "execution_count": 15,
      "outputs": [
        {
          "output_type": "stream",
          "name": "stdout",
          "text": [
            "[2, 'a', 'b', 'a', 5.44, True, 1000]\n"
          ]
        }
      ]
    },
    {
      "cell_type": "code",
      "source": [
        " #Remove a primeira ocorrência do elemento 'a'\n",
        "lista.remove('a')\n",
        "print(lista)\n"
      ],
      "metadata": {
        "colab": {
          "base_uri": "https://localhost:8080/"
        },
        "id": "xsPcz-2KaLAL",
        "outputId": "9218e424-98a9-40b5-fe32-70d3e3866f9b"
      },
      "execution_count": 16,
      "outputs": [
        {
          "output_type": "stream",
          "name": "stdout",
          "text": [
            "[2, 'b', 'a', 5.44, True, 1000]\n"
          ]
        }
      ]
    },
    {
      "cell_type": "code",
      "source": [
        "l1 = [30, 10, 20, 27, 49, 12, 67, 21, 84, 53, 22, 56, 80, 35, 18]\n",
        "l2 = [2, 'a', 5.44, True]\n",
        "# Operações de concatenação (+), repetição (*) e filiação (in)\n",
        "print(l1 + l2)\n",
        "print(l1 * 3)\n",
        "print(10 in l1)\n",
        "# Funções úteis\n",
        "print(len(l2)) # len: retorna a quantidade de elementos da lista.\n",
        "print(sum(l1)) # sum: retorna a soma dos elementos de uma lista.\n",
        "print(max(l1)) # max: retorna o maior elemento da lista (!!!!)\n",
        "# Métodos que alteram os valores internos da lista\n",
        "l2.reverse() # reverse: inverte a ordem dos elementos\n",
        "print(l2)\n",
        "l1.extend([10, 20, 30, 40, 10]) # extend: adiciona elementos de outra sequência\n",
        "print(l1)\n",
        "l1.sort() # sort: ordena os valores da lista\n",
        "print(l1)\n",
        "l2.insert(2, 'novo valor') # insert: adiciona um elemento em um índice especifico\n",
        "print(l2)\n",
        "l2.pop() # pop: remove o último elemento da lista\n",
        "print(l2)\n",
        "l2.clear() # clear: limpa a lista, removendo todos os elementos\n",
        "print(l2)\n",
        "# Métodos que retornam valores e não alteram a lista\n",
        "print(l1.index(40)) # index: retorna o índice da primeira ocorrência do elemento\n",
        "print(l1.count(10)) # count: conta as ocorrências do elemento"
      ],
      "metadata": {
        "colab": {
          "base_uri": "https://localhost:8080/"
        },
        "id": "Tm4R9qoobKAm",
        "outputId": "15845b75-a21c-411a-e027-9d72fbe1d4c6"
      },
      "execution_count": 19,
      "outputs": [
        {
          "output_type": "stream",
          "name": "stdout",
          "text": [
            "[30, 10, 20, 27, 49, 12, 67, 21, 84, 53, 22, 56, 80, 35, 18, 2, 'a', 5.44, True]\n",
            "[30, 10, 20, 27, 49, 12, 67, 21, 84, 53, 22, 56, 80, 35, 18, 30, 10, 20, 27, 49, 12, 67, 21, 84, 53, 22, 56, 80, 35, 18, 30, 10, 20, 27, 49, 12, 67, 21, 84, 53, 22, 56, 80, 35, 18]\n",
            "True\n",
            "4\n",
            "584\n",
            "84\n",
            "[True, 5.44, 'a', 2]\n",
            "[30, 10, 20, 27, 49, 12, 67, 21, 84, 53, 22, 56, 80, 35, 18, 10, 20, 30, 40, 10]\n",
            "[10, 10, 10, 12, 18, 20, 20, 21, 22, 27, 30, 30, 35, 40, 49, 53, 56, 67, 80, 84]\n",
            "[True, 5.44, 'novo valor', 'a', 2]\n",
            "[True, 5.44, 'novo valor', 'a']\n",
            "[]\n",
            "13\n",
            "3\n"
          ]
        }
      ]
    },
    {
      "cell_type": "code",
      "source": [
        "idades = [27, 49, 12, 67, 21, 32, 18, 45, 84, 53, 22, 56, 80, 35, 18]\n",
        "print('Maior idade:', max(idades))\n"
      ],
      "metadata": {
        "colab": {
          "base_uri": "https://localhost:8080/"
        },
        "id": "4tdC_oBSdECV",
        "outputId": "6aee26c2-6a66-4fa3-ead5-333f2bca03f8"
      },
      "execution_count": 20,
      "outputs": [
        {
          "output_type": "stream",
          "name": "stdout",
          "text": [
            "Maior idade: 84\n"
          ]
        }
      ]
    },
    {
      "cell_type": "code",
      "source": [
        " #Criação de uma tupla homogênea\n",
        "tupla = (0, 1, 2, 3, 4)\n",
        "print(tupla)\n",
        "# Tupla heterogênea\n",
        "tupla2 = (2, 'a', 5.44, True, None)\n",
        "print(tupla2)\n",
        "# Tupla vazia\n",
        "tupla3 = ()\n",
        "print(tupla3)\n",
        "# acesso por índices\n",
        "print(tupla[0])\n",
        "print(tupla[3])\n",
        "print(tupla[-1])\n",
        "# acesso por slices\n",
        "print(tupla2[1:4])\n",
        "print(tupla2[-2:])\n",
        "print(tupla2[:])\n"
      ],
      "metadata": {
        "colab": {
          "base_uri": "https://localhost:8080/"
        },
        "id": "u2wyV4kQe42L",
        "outputId": "1716b353-a7ae-4c0c-ae42-411181d0b5a3"
      },
      "execution_count": 21,
      "outputs": [
        {
          "output_type": "stream",
          "name": "stdout",
          "text": [
            "(0, 1, 2, 3, 4)\n",
            "(2, 'a', 5.44, True, None)\n",
            "()\n",
            "0\n",
            "3\n",
            "4\n",
            "('a', 5.44, True)\n",
            "(True, None)\n",
            "(2, 'a', 5.44, True, None)\n"
          ]
        }
      ]
    },
    {
      "cell_type": "code",
      "source": [
        "t1 = (30, 10, 20)\n",
        "t2 = (2, 'a', 5.44, True)\n",
        "# Operações de concatenação (+), repetição (*) e filiação (in)\n",
        "print(t1 + t2)\n",
        "print(t1 * 3)\n",
        "print(10 in t1)\n",
        "# Funções úteis\n",
        "print(len(t2)) # len: retorna a quantidade de elementos da tupla\n",
        "print(min(t1)) # min: retorna o menor elemento da tupla\n",
        "print(max(t1)) # max: retorna o maior elemento da tupla\n",
        "print(sum(t1)) # sum: retorna a soma dos elementos da tupla\n",
        "# Métodos que retornam valores\n",
        "print(t1.index(20)) # index: retorna o índice da primeira ocorrência do elemento\n",
        "print(t2.count('a')) # count: conta as ocorrências do elemento"
      ],
      "metadata": {
        "colab": {
          "base_uri": "https://localhost:8080/"
        },
        "id": "6-4rlTTnfRXd",
        "outputId": "031b0193-96c7-4a4d-c1e2-47232779c57e"
      },
      "execution_count": 22,
      "outputs": [
        {
          "output_type": "stream",
          "name": "stdout",
          "text": [
            "(30, 10, 20, 2, 'a', 5.44, True)\n",
            "(30, 10, 20, 30, 10, 20, 30, 10, 20)\n",
            "True\n",
            "4\n",
            "10\n",
            "30\n",
            "60\n",
            "2\n",
            "1\n"
          ]
        }
      ]
    },
    {
      "cell_type": "code",
      "source": [
        " #Criação de um conjunto homogêneo\n",
        "c1 = {3, 0, 1, 4, 3}\n",
        "print(c1)\n",
        "# Criação do mesmo conjunto, porém com uma ordenação diferente dos itens\n",
        "c2 = {2, 1, 4, 3, 0}\n",
        "print(c2)\n",
        "# Conjunto heterogêneo\n",
        "c3 = {2, 'a', 5.44, True, None}\n",
        "print(c3)"
      ],
      "metadata": {
        "colab": {
          "base_uri": "https://localhost:8080/"
        },
        "id": "SZO51p4oisg9",
        "outputId": "5bbf3809-a0ba-4c8e-ee25-76ec9db8cf44"
      },
      "execution_count": 23,
      "outputs": [
        {
          "output_type": "stream",
          "name": "stdout",
          "text": [
            "{0, 1, 3, 4}\n",
            "{0, 1, 2, 3, 4}\n",
            "{True, 2, 5.44, 'a', None}\n"
          ]
        }
      ]
    },
    {
      "cell_type": "code",
      "source": [
        "#Criação dos conjuntos A e B\n",
        "A = {1, 2, 3, 4, 5}\n",
        "B = {4, 5, 6, 7, 8}\n",
        "print('A:', A)\n",
        "print('B:', B)\n",
        "# Operação de União: (A ∪ B)\n",
        "print('A | B =>', A | B)\n",
        "print('A.union(B) =>', A.union(B))\n",
        "# Operação de Interseção: (A ∩ B)\n",
        "print('A & B =>', A & B)\n",
        "print('A.intersection(B) =>', A.intersection(B))\n",
        "# Operação de Diferença: (A - B) e (B - A)\n",
        "print('A - B =>', A - B)\n",
        "print('A.difference(B) =>', A.difference(B))\n",
        "print('B - A =>', B - A)\n",
        "print('B.difference(A) =>', B.difference(A))"
      ],
      "metadata": {
        "colab": {
          "base_uri": "https://localhost:8080/"
        },
        "id": "CH1HyqnjjQ0i",
        "outputId": "426a2812-ca7f-4ea0-91e2-fa491e376178"
      },
      "execution_count": 24,
      "outputs": [
        {
          "output_type": "stream",
          "name": "stdout",
          "text": [
            "A: {1, 2, 3, 4, 5}\n",
            "B: {4, 5, 6, 7, 8}\n",
            "A | B => {1, 2, 3, 4, 5, 6, 7, 8}\n",
            "A.union(B) => {1, 2, 3, 4, 5, 6, 7, 8}\n",
            "A & B => {4, 5}\n",
            "A.intersection(B) => {4, 5}\n",
            "A - B => {1, 2, 3}\n",
            "A.difference(B) => {1, 2, 3}\n",
            "B - A => {8, 6, 7}\n",
            "B.difference(A) => {8, 6, 7}\n"
          ]
        }
      ]
    },
    {
      "cell_type": "code",
      "source": [
        " #Criação dos conjuntos A e B\n",
        "c1 = {1, 2, 3, 4, 5}\n",
        "c2 = {4, 5}\n",
        "c3 = {91, 92, 93}\n",
        "# Adiciona um elemento ao conjunto\n",
        "c1.add(6)\n",
        "print(c1)\n",
        "# Adiciona os elementos de uma sequência iterável\n",
        "c1.update([2, 4, 6, 8])\n",
        "print(c1)\n",
        "# Descarta um elemento do conjunto,\n",
        "c1.discard(8)\n",
        "print(c1)\n",
        "# Diferentemente do set.remove(), o discard não gera um erro\n",
        "# se o elmento a ser removido não existir\n",
        "c1.discard(99)\n",
        "print(c1)\n",
        "# Verifica se os conjuntos são disjuntos, ou seja,\n",
        "# se não possuem nenhum elemento em comum\n",
        "print(c1.isdisjoint(c2))\n",
        "print(c1.isdisjoint(c3))\n",
        "# Verifica se o conjunto é subconjunto de outro\n",
        "print(c1.issubset(c2))\n",
        "print(c2.issubset(c1))\n",
        "# Verifica se o conjunto contém outro conjunto (superset)\n",
        "print(c1.issuperset(c2))\n",
        "print(c2.issuperset(c1))"
      ],
      "metadata": {
        "colab": {
          "base_uri": "https://localhost:8080/"
        },
        "id": "Zt-LUZJ6jfPJ",
        "outputId": "50f6a172-f023-4e8b-cae3-277165a1c2a2"
      },
      "execution_count": 25,
      "outputs": [
        {
          "output_type": "stream",
          "name": "stdout",
          "text": [
            "{1, 2, 3, 4, 5, 6}\n",
            "{1, 2, 3, 4, 5, 6, 8}\n",
            "{1, 2, 3, 4, 5, 6}\n",
            "{1, 2, 3, 4, 5, 6}\n",
            "False\n",
            "True\n",
            "False\n",
            "True\n",
            "True\n",
            "False\n"
          ]
        }
      ]
    },
    {
      "cell_type": "code",
      "source": [
        " #Criação das listas de alunos das turmas\n",
        "ING = ['Gabriel', 'Caio', 'Maria', 'Ana', 'Juliano', 'Flávia', 'Rubens', 'Bruna']\n",
        "ESP = ['Caio', 'Artur', 'Beatriz', 'Carolina', 'Maria', 'Juliano', 'Bruna', 'Rui']\n",
        "FRA = ['Pedro', 'Bruna', 'Paula', 'Tiago', 'Maria', 'Flávia', 'Rui', 'Carolina']\n",
        "# Concatenação de todas as listas de alunos\n",
        "ALL = ING + ESP + FRA\n",
        "# Ordenação para melhor visualização\n",
        "ALL.sort()\n",
        "# Exibição do resultado\n",
        "print('Relação de todos os alunos da escola:')\n",
        "print(ALL)"
      ],
      "metadata": {
        "colab": {
          "base_uri": "https://localhost:8080/"
        },
        "id": "7e9_Wp91v4MZ",
        "outputId": "9a6e648b-ae6c-4a86-e241-795d34a4d866"
      },
      "execution_count": 26,
      "outputs": [
        {
          "output_type": "stream",
          "name": "stdout",
          "text": [
            "Relação de todos os alunos da escola:\n",
            "['Ana', 'Artur', 'Beatriz', 'Bruna', 'Bruna', 'Bruna', 'Caio', 'Caio', 'Carolina', 'Carolina', 'Flávia', 'Flávia', 'Gabriel', 'Juliano', 'Juliano', 'Maria', 'Maria', 'Maria', 'Paula', 'Pedro', 'Rubens', 'Rui', 'Rui', 'Tiago']\n"
          ]
        }
      ]
    },
    {
      "cell_type": "code",
      "source": [
        "ING = {'Gabriel', 'Caio', 'Maria', 'Ana', 'Juliano', 'Flávia', 'Rubens', 'Bruna'}\n",
        "ESP = {'Caio', 'Artur', 'Beatriz', 'Carolina', 'Maria', 'Juliano', 'Bruna', 'Rui'}\n",
        "FRA = {'Pedro', 'Bruna', 'Paula', 'Tiago', 'Maria', 'Flávia', 'Rui', 'Carolina'}\n",
        "# 1 – Interseção entre os pares de turmas: (ING & ESP), (ING & FRA) e (ESP & FRA)\n",
        "# 2 – Calcula a união das interseções\n",
        "ALUNOS_DESCONTO = (ING & ESP) | (ING & FRA) | (ESP & FRA)\n",
        "# Exibição do resultado\n",
        "print('Relação de dos alunos com desconto:')\n",
        "print(ALUNOS_DESCONTO)\n"
      ],
      "metadata": {
        "colab": {
          "base_uri": "https://localhost:8080/"
        },
        "id": "gUDafypGwS_f",
        "outputId": "5d3b8302-4ac7-4fb5-e943-3a2996aa611b"
      },
      "execution_count": 27,
      "outputs": [
        {
          "output_type": "stream",
          "name": "stdout",
          "text": [
            "Relação de dos alunos com desconto:\n",
            "{'Juliano', 'Bruna', 'Maria', 'Rui', 'Carolina', 'Caio', 'Flávia'}\n"
          ]
        }
      ]
    },
    {
      "cell_type": "code",
      "source": [
        " #Dicionário onde as chaves são do tipo string\n",
        "d1 = {'nome': 'Antônio', 'idade': 36, 'sexo': 'masculino'}\n",
        "print(d1)\n",
        "# Dicionário onde as chaves são do tipo inteiro\n",
        "d2 = {2: 'dois', 1: 'um', 4: 'quatro', 3: 'três', 0: 'zero'}\n",
        "print(d2)\n",
        "# Dicionário com chaves de tipos mistos\n",
        "d3 = {2: 'a', 5.44: True, 'key': None}\n",
        "print(d3)\n",
        "# Dicionário vazio\n",
        "d4 = {}\n",
        "print(d4)"
      ],
      "metadata": {
        "colab": {
          "base_uri": "https://localhost:8080/"
        },
        "id": "GycutUwj0kn5",
        "outputId": "0fc975a1-2c31-49fc-e46e-6bed7883bcda"
      },
      "execution_count": 29,
      "outputs": [
        {
          "output_type": "stream",
          "name": "stdout",
          "text": [
            "{'nome': 'Antônio', 'idade': 36, 'sexo': 'masculino'}\n",
            "{2: 'dois', 1: 'um', 4: 'quatro', 3: 'três', 0: 'zero'}\n",
            "{2: 'a', 5.44: True, 'key': None}\n",
            "{}\n"
          ]
        }
      ]
    },
    {
      "cell_type": "code",
      "source": [
        "# Criação dos dicionários\n",
        "d1 = {2: 'dois', 1: 'um', 4: 'quatro', 3: 'três', 0: 'zero'}\n",
        "d2 = {'nome': 'Antônio', 'idade': 36, 'sexo': 'masculino'}\n",
        "# Acesso aos elementos\n",
        "print(d1[0])\n",
        "print(d1[2])\n",
        "print(f'Meu nome é {d2[\"nome\"]} e tenho {d2[\"idade\"]} anos')"
      ],
      "metadata": {
        "colab": {
          "base_uri": "https://localhost:8080/"
        },
        "id": "F1Q5dhZn07i_",
        "outputId": "a0eddddc-659a-4ded-8002-eabcd7cbacaa"
      },
      "execution_count": 30,
      "outputs": [
        {
          "output_type": "stream",
          "name": "stdout",
          "text": [
            "zero\n",
            "dois\n",
            "Meu nome é Antônio e tenho 36 anos\n"
          ]
        }
      ]
    },
    {
      "cell_type": "code",
      "source": [
        " # do dicionário\n",
        "d1 = {'nome': 'Antônio', 'idade': 36, 'sexo': 'masculino'}\n",
        "# Acesso por meio do operador []\n",
        "print(d1['endereço'])#chave inexixtente\n"
      ],
      "metadata": {
        "colab": {
          "base_uri": "https://localhost:8080/",
          "height": 176
        },
        "id": "k1AJ4ENm3i3Q",
        "outputId": "670ea6dd-b366-47dc-dbc4-4593599ef44f"
      },
      "execution_count": 31,
      "outputs": [
        {
          "output_type": "error",
          "ename": "KeyError",
          "evalue": "'endereço'",
          "traceback": [
            "\u001b[0;31m---------------------------------------------------------------------------\u001b[0m",
            "\u001b[0;31mKeyError\u001b[0m                                  Traceback (most recent call last)",
            "\u001b[0;32m<ipython-input-31-0e5e45fed17d>\u001b[0m in \u001b[0;36m<cell line: 4>\u001b[0;34m()\u001b[0m\n\u001b[1;32m      2\u001b[0m \u001b[0md1\u001b[0m \u001b[0;34m=\u001b[0m \u001b[0;34m{\u001b[0m\u001b[0;34m'nome'\u001b[0m\u001b[0;34m:\u001b[0m \u001b[0;34m'Antônio'\u001b[0m\u001b[0;34m,\u001b[0m \u001b[0;34m'idade'\u001b[0m\u001b[0;34m:\u001b[0m \u001b[0;36m36\u001b[0m\u001b[0;34m,\u001b[0m \u001b[0;34m'sexo'\u001b[0m\u001b[0;34m:\u001b[0m \u001b[0;34m'masculino'\u001b[0m\u001b[0;34m}\u001b[0m\u001b[0;34m\u001b[0m\u001b[0;34m\u001b[0m\u001b[0m\n\u001b[1;32m      3\u001b[0m \u001b[0;31m# Acesso por meio do operador []\u001b[0m\u001b[0;34m\u001b[0m\u001b[0;34m\u001b[0m\u001b[0m\n\u001b[0;32m----> 4\u001b[0;31m \u001b[0mprint\u001b[0m\u001b[0;34m(\u001b[0m\u001b[0md1\u001b[0m\u001b[0;34m[\u001b[0m\u001b[0;34m'endereço'\u001b[0m\u001b[0;34m]\u001b[0m\u001b[0;34m)\u001b[0m\u001b[0;34m\u001b[0m\u001b[0;34m\u001b[0m\u001b[0m\n\u001b[0m",
            "\u001b[0;31mKeyError\u001b[0m: 'endereço'"
          ]
        }
      ]
    },
    {
      "cell_type": "code",
      "source": [
        " #Criação do dicionário\n",
        "d1 = {'nome': 'Antônio', 'idade': 36, 'sexo': 'masculino'}\n",
        "# Acesso por meio do método get()\n",
        "print(d1.get('endereço'))\n"
      ],
      "metadata": {
        "colab": {
          "base_uri": "https://localhost:8080/"
        },
        "id": "ZilNFgM43tM1",
        "outputId": "f7460c24-25a9-4795-d38c-dee3f5d2d49a"
      },
      "execution_count": 33,
      "outputs": [
        {
          "output_type": "stream",
          "name": "stdout",
          "text": [
            "None\n"
          ]
        }
      ]
    },
    {
      "cell_type": "code",
      "source": [
        " #Criação do dicionário\n",
        "d1 = {'nome': 'Antônio', 'idade': 36, 'sexo': 'masculino'}\n",
        "print(d1)\n",
        "# Atualização do valor da chave 'nome'\n",
        "d1['nome'] = 'Antônio Carlos'\n",
        "print(d1)\n",
        "# Adição da chave 'endereço'\n",
        "d1['endereço'] = 'Rua 123'\n",
        "print(d1)\n"
      ],
      "metadata": {
        "colab": {
          "base_uri": "https://localhost:8080/"
        },
        "id": "swyl9GYz4ObU",
        "outputId": "b0233643-d393-463f-cbf5-867ace4ad174"
      },
      "execution_count": 34,
      "outputs": [
        {
          "output_type": "stream",
          "name": "stdout",
          "text": [
            "{'nome': 'Antônio', 'idade': 36, 'sexo': 'masculino'}\n",
            "{'nome': 'Antônio Carlos', 'idade': 36, 'sexo': 'masculino'}\n",
            "{'nome': 'Antônio Carlos', 'idade': 36, 'sexo': 'masculino', 'endereço': 'Rua 123'}\n"
          ]
        }
      ]
    },
    {
      "cell_type": "code",
      "source": [
        " #Cria o dicionário\n",
        "d1 = {'zero': 0, 'um': 1, 'dois': 2, 'três': 3, 'quatro': 4}\n",
        "print(d1)\n",
        "# Encontra a maior e menor chave\n",
        "print('Maior e menor chave:', max(d1), min(d1))\n",
        "# Adiciona elementos de um outro dicionario\n",
        "d1.update({'cinco': 5, 'seis': 6})\n",
        "print(d1)\n",
        "# Verifica se o dicionário possui as seguintes chaves\n",
        "print(\"A chave 'dois' está no dicionário?\", 'dois' in d1)\n",
        "print(\"A chave 'cinco' não está no dicionário?\", 'dois' in d1)\n",
        "# Remove o elemento com chave 'zero'\n",
        "d1.pop('zero')\n",
        "print(d1)\n"
      ],
      "metadata": {
        "colab": {
          "base_uri": "https://localhost:8080/"
        },
        "id": "zSvbr9x94r-O",
        "outputId": "a8afe017-80ad-4265-df3f-c13d34240c6a"
      },
      "execution_count": 35,
      "outputs": [
        {
          "output_type": "stream",
          "name": "stdout",
          "text": [
            "{'zero': 0, 'um': 1, 'dois': 2, 'três': 3, 'quatro': 4}\n",
            "Maior e menor chave: zero dois\n",
            "{'zero': 0, 'um': 1, 'dois': 2, 'três': 3, 'quatro': 4, 'cinco': 5, 'seis': 6}\n",
            "A chave 'dois' está no dicionário? True\n",
            "A chave 'cinco' não está no dicionário? True\n",
            "{'um': 1, 'dois': 2, 'três': 3, 'quatro': 4, 'cinco': 5, 'seis': 6}\n"
          ]
        }
      ]
    },
    {
      "cell_type": "code",
      "source": [
        "#Cria o dicionário\n",
        "d1 = {'zero': 0, 'um': 1, 'dois': 2, 'três': 3, 'quatro': 4}\n",
        "# Itera sobre as chaves\n",
        "for key in d1:\n",
        "    if key == 'três':\n",
        "        print('Chave três encontrada!') # Indent this line\n",
        "for key in d1.keys():\n",
        "    if key == 'dez':\n",
        "        print('Chave quatro encontrada!') # Indent this line as well\n",
        "# Itera sobre os valores\n",
        "soma = 0\n",
        "for value in d1.values():\n",
        "    soma = soma + value\n",
        "print('Soma dos valores do dicionário:', soma)\n",
        "# Itera sobre os itens\n",
        "for key, value in d1.items():\n",
        "    print(key, value)\n"
      ],
      "metadata": {
        "colab": {
          "base_uri": "https://localhost:8080/"
        },
        "id": "CprzrVV15XKm",
        "outputId": "8c27fe4c-e2c2-4bb9-8e7a-515142f9d0bc"
      },
      "execution_count": 43,
      "outputs": [
        {
          "output_type": "stream",
          "name": "stdout",
          "text": [
            "Chave três encontrada!\n",
            "Soma dos valores do dicionário: 10\n",
            "zero 0\n",
            "um 1\n",
            "dois 2\n",
            "três 3\n",
            "quatro 4\n"
          ]
        }
      ]
    }
  ]
}